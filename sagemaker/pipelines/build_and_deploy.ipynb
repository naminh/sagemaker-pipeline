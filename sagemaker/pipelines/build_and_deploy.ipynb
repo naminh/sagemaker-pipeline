{
 "cells": [
  {
   "cell_type": "code",
   "execution_count": null,
   "id": "9ac0f797-1328-44c9-ac14-7886a10bc499",
   "metadata": {
    "collapsed": true,
    "jupyter": {
     "outputs_hidden": true
    },
    "tags": []
   },
   "outputs": [],
   "source": [
    "!pip install --upgrade sagemaker==2.117.0"
   ]
  },
  {
   "cell_type": "markdown",
   "id": "fda71400-d45a-4fba-996a-3b8c25aa459d",
   "metadata": {},
   "source": [
    "# PyTorch NLP"
   ]
  },
  {
   "cell_type": "code",
   "execution_count": null,
   "id": "9e1ef81d-c945-463b-ac97-3156274cd44d",
   "metadata": {},
   "outputs": [],
   "source": [
    "import boto3\n",
    "import json\n",
    "import sagemaker\n",
    "\n",
    "from pytorch_nlp.pipeline import PyTorchPipeline\n",
    "import sagemaker\n",
    "\n",
    "role = sagemaker.get_execution_role()\n",
    "\n",
    "sm_pipeline = PyTorchPipeline(\n",
    "    role=role,\n",
    "    lambda_role=\"arn:aws:iam::<>:role/deployment-role\",\n",
    "    region=\"\",\n",
    "    default_bucket=\"\",\n",
    "    project_name=\"pytorch-nlp\",\n",
    ").construct_pipeline()"
   ]
  },
  {
   "cell_type": "code",
   "execution_count": null,
   "id": "6accc002-2bb5-49e8-8960-7c377eef1b66",
   "metadata": {
    "collapsed": true,
    "jupyter": {
     "outputs_hidden": true
    },
    "tags": []
   },
   "outputs": [],
   "source": [
    "# don't run this due to eval bug with PyTorchProcessor\n",
    "\n",
    "# definition = json.loads(sm_pipeline.definition())\n",
    "# definition"
   ]
  },
  {
   "cell_type": "code",
   "execution_count": null,
   "id": "d86f0760-45a1-4a0f-930e-1d8c774eca15",
   "metadata": {
    "tags": []
   },
   "outputs": [],
   "source": [
    "upsert_response = sm_pipeline.upsert(role_arn=role)"
   ]
  },
  {
   "cell_type": "code",
   "execution_count": null,
   "id": "f4047533-5519-431a-8b7c-350b60231e7b",
   "metadata": {
    "tags": []
   },
   "outputs": [],
   "source": [
    "print(\"\\n###### Created/Updated SageMaker Pipeline: Response received:\")\n",
    "print(upsert_response)\n",
    "\n",
    "execution = sm_pipeline.start(\n",
    "    parameters=dict(\n",
    "        ModelApprovalStatus=\"Approved\",\n",
    "        InferenceMethod=\"serverless\",  # or \"realtime\"\n",
    "        TrainData=\"s3://<>/tweet-sentiment-extraction/train.csv\",\n",
    "    ),\n",
    ")\n",
    "print(f\"\\n###### Execution started with PipelineExecutionArn: {execution.arn}\")\n",
    "\n",
    "print(\"Waiting for the execution to finish...\")\n",
    "execution.wait()\n",
    "print(\"\\n#####Execution completed. Execution step details:\")\n",
    "\n",
    "execution.list_steps()"
   ]
  },
  {
   "cell_type": "markdown",
   "id": "a3fb2520-ead3-4dc7-bed0-20143d64bcb4",
   "metadata": {},
   "source": [
    "# Invoke endpoint"
   ]
  },
  {
   "cell_type": "code",
   "execution_count": null,
   "id": "ef48c994-e7c7-46a9-a68e-ebb2ddec7412",
   "metadata": {
    "tags": []
   },
   "outputs": [],
   "source": [
    "import json\n",
    "\n",
    "runtime = boto3.client(\"sagemaker-runtime\")\n",
    "\n",
    "endpoint_name = \"\""
   ]
  },
  {
   "cell_type": "code",
   "execution_count": null,
   "id": "8525e2ff-5d9e-48cc-9e0e-50343f5593af",
   "metadata": {
    "tags": []
   },
   "outputs": [],
   "source": [
    "content_type = \"application/json\"\n",
    "payload = {\"text\": \"I feel so happy right now\", \"sentiment\": \"positive\"}\n",
    "# payload = {\"text\": \"Last session of the day http://twitpic.com/67ezh\", \"sentiment\": \"neutral\"}\n",
    "\n",
    "response = runtime.invoke_endpoint(\n",
    "    EndpointName=endpoint_name, ContentType=content_type, Body=json.dumps(payload)\n",
    ")\n",
    "\n",
    "print(json.loads(response[\"Body\"].read()))"
   ]
  },
  {
   "cell_type": "code",
   "execution_count": null,
   "id": "69350f68-9029-427b-b27e-3f2129cc7736",
   "metadata": {},
   "outputs": [],
   "source": []
  },
  {
   "cell_type": "markdown",
   "id": "d97299e2-fc8a-451f-99cf-5b733be65d61",
   "metadata": {},
   "source": [
    "# Teardown endpoint"
   ]
  },
  {
   "cell_type": "code",
   "execution_count": null,
   "id": "0ca1bdd8-0770-4e2e-a3f3-5beb6e818f8d",
   "metadata": {
    "tags": []
   },
   "outputs": [],
   "source": [
    "sm_client = sagemaker.Session().sagemaker_client\n",
    "\n",
    "endpoint_name = \"\"\n",
    "endpoint_config_name = \"\""
   ]
  },
  {
   "cell_type": "code",
   "execution_count": null,
   "id": "0c73c64e-9acb-4b00-abc0-7a43afcddf15",
   "metadata": {
    "tags": []
   },
   "outputs": [],
   "source": [
    "# Delete the EndpointConfig\n",
    "sm_client.delete_endpoint_config(EndpointConfigName=endpoint_config_name)\n",
    "\n",
    "# Delete the Endpoint\n",
    "sm_client.delete_endpoint(EndpointName=endpoint_name)"
   ]
  },
  {
   "cell_type": "code",
   "execution_count": null,
   "id": "13c7af58-fc08-4f43-b3af-b2dce040d7e0",
   "metadata": {},
   "outputs": [],
   "source": []
  }
 ],
 "metadata": {
  "instance_type": "ml.t3.medium",
  "kernelspec": {
   "display_name": "Python 3.8.13 64-bit ('3.8.13')",
   "language": "python",
   "name": "python3"
  },
  "language_info": {
   "codemirror_mode": {
    "name": "ipython",
    "version": 3
   },
   "file_extension": ".py",
   "mimetype": "text/x-python",
   "name": "python",
   "nbconvert_exporter": "python",
   "pygments_lexer": "ipython3",
   "version": "3.8.13"
  },
  "vscode": {
   "interpreter": {
    "hash": "6fe1867fe6cc8884feaeb7b1288157d8314e8c72f1d0f4f381ca790f3f5fd815"
   }
  }
 },
 "nbformat": 4,
 "nbformat_minor": 5
}
