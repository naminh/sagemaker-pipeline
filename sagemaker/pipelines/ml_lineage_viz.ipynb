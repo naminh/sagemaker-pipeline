{
 "cells": [
  {
   "cell_type": "markdown",
   "id": "1eb783a8-a500-4061-9dd1-3d6a829e07ae",
   "metadata": {
    "tags": []
   },
   "source": [
    "# LineageTableVisualizer"
   ]
  },
  {
   "cell_type": "code",
   "execution_count": null,
   "id": "17c9b4f1-59b6-474c-925f-c870e1f38172",
   "metadata": {},
   "outputs": [],
   "source": [
    "import sagemaker\n",
    "from sagemaker.lineage.visualizer import LineageTableVisualizer\n",
    "\n",
    "sm_client = sagemaker.Session().sagemaker_client\n",
    "sagemaker_session = sagemaker.session.Session()"
   ]
  },
  {
   "cell_type": "code",
   "execution_count": null,
   "id": "3c393397-8ff1-486d-b527-9eee7ce0418d",
   "metadata": {
    "tags": []
   },
   "outputs": [],
   "source": [
    "viz = LineageTableVisualizer(sagemaker_session)"
   ]
  },
  {
   "cell_type": "code",
   "execution_count": null,
   "id": "ab72d59a-06c0-46ef-aeeb-0237524d8ddd",
   "metadata": {
    "tags": []
   },
   "outputs": [],
   "source": [
    "latest_execution_arn = sm_client.list_pipeline_executions(\n",
    "    PipelineName=\"pytorch-nlp-Pipeline\",\n",
    "    SortBy=\"CreationTime\",\n",
    "    SortOrder=\"Descending\",\n",
    "    MaxResults=1,\n",
    ")[\"PipelineExecutionSummaries\"][0][\"PipelineExecutionArn\"]"
   ]
  },
  {
   "cell_type": "code",
   "execution_count": null,
   "id": "0fa093e2-3968-4d85-b8e4-b937c39cacdd",
   "metadata": {
    "tags": []
   },
   "outputs": [],
   "source": [
    "pipeline_execution_steps = sm_client.list_pipeline_execution_steps(\n",
    "    PipelineExecutionArn=latest_execution_arn, SortOrder=\"Ascending\"\n",
    ")[\"PipelineExecutionSteps\"]"
   ]
  },
  {
   "cell_type": "code",
   "execution_count": null,
   "id": "c4ab6726-c7e9-4bfd-8166-dcc2a34919e9",
   "metadata": {
    "tags": []
   },
   "outputs": [],
   "source": [
    "for execution_step in pipeline_execution_steps:\n",
    "    print(execution_step[\"StepName\"])\n",
    "    display(viz.show(pipeline_execution_step=execution_step))\n",
    "    # time.sleep(5)"
   ]
  },
  {
   "cell_type": "markdown",
   "id": "182c608f-77cd-412a-96cc-9e823052344b",
   "metadata": {
    "jp-MarkdownHeadingCollapsed": true,
    "tags": []
   },
   "source": [
    "# PyVis\n",
    "Note by default the links between execution steps are missing. Use this once Sagemaker Experiments has been integrated into the pipeline workflow."
   ]
  },
  {
   "cell_type": "code",
   "execution_count": null,
   "id": "d82fcada-58ab-4ed7-9f76-17a3394e1cfb",
   "metadata": {
    "collapsed": true,
    "jupyter": {
     "outputs_hidden": true
    },
    "tags": []
   },
   "outputs": [],
   "source": [
    "!pip install pyvis"
   ]
  },
  {
   "cell_type": "code",
   "execution_count": null,
   "id": "c75e3f76-bddc-427a-a2dd-0da1d86eb0c9",
   "metadata": {
    "tags": []
   },
   "outputs": [],
   "source": [
    "from pyvis.network import Network\n",
    "import os\n",
    "import pprint as pp\n",
    "\n",
    "\n",
    "class Visualizer:\n",
    "    def __init__(self):\n",
    "        self.directory = \"output\"\n",
    "        if not os.path.exists(self.directory):\n",
    "            os.makedirs(self.directory)\n",
    "\n",
    "    def render(self, query_lineage_response, scenario_name):\n",
    "        net = self.get_network()\n",
    "        for vertex in query_lineage_response[\"Vertices\"]:\n",
    "            arn = vertex[\"Arn\"]\n",
    "            if \"Type\" in vertex:\n",
    "                label = vertex[\"Type\"]\n",
    "            else:\n",
    "                label = None\n",
    "            lineage_type = vertex[\"LineageType\"]\n",
    "            name = self.get_name(arn)\n",
    "            title = self.get_title(arn)\n",
    "            net.add_node(\n",
    "                vertex[\"Arn\"],\n",
    "                label=label + \"\\n\" + lineage_type,\n",
    "                title=title,\n",
    "                shape=\"circle\",\n",
    "            )\n",
    "\n",
    "        for edge in query_lineage_response[\"Edges\"]:\n",
    "            source = edge[\"SourceArn\"]\n",
    "            dest = edge[\"DestinationArn\"]\n",
    "            net.add_edge(dest, source)\n",
    "\n",
    "        return net.show(f\"{self.directory}/{scenario_name}.html\")\n",
    "\n",
    "    def get_title(self, arn):\n",
    "        return f\"Arn: {arn}\"\n",
    "\n",
    "    def get_name(self, arn):\n",
    "        name = arn.split(\"/\")[1]\n",
    "        return name\n",
    "\n",
    "    def get_network(self):\n",
    "        net = Network(height=\"400px\", width=\"800px\", directed=True, notebook=True)\n",
    "        net.set_options(\n",
    "            \"\"\"\n",
    "        var options = {\n",
    "  \"nodes\": {\n",
    "    \"borderWidth\": 3,\n",
    "    \"shadow\": {\n",
    "      \"enabled\": true\n",
    "    },\n",
    "    \"shapeProperties\": {\n",
    "      \"borderRadius\": 3\n",
    "    },\n",
    "    \"size\": 11,\n",
    "    \"shape\": \"circle\"\n",
    "  },\n",
    "  \"edges\": {\n",
    "    \"arrows\": {\n",
    "      \"to\": {\n",
    "        \"enabled\": true\n",
    "      }\n",
    "    },\n",
    "    \"color\": {\n",
    "      \"inherit\": true\n",
    "    },\n",
    "    \"smooth\": false\n",
    "  },\n",
    "  \"layout\": {\n",
    "    \"hierarchical\": {\n",
    "      \"enabled\": true,\n",
    "      \"direction\": \"LR\",\n",
    "      \"sortMethod\": \"directed\"\n",
    "    }\n",
    "  },\n",
    "  \"physics\": {\n",
    "    \"hierarchicalRepulsion\": {\n",
    "      \"centralGravity\": 0\n",
    "    },\n",
    "    \"minVelocity\": 0.75,\n",
    "    \"solver\": \"hierarchicalRepulsion\"\n",
    "  }\n",
    "}\n",
    "        \"\"\"\n",
    "        )\n",
    "        return"
   ]
  },
  {
   "cell_type": "code",
   "execution_count": null,
   "id": "2cba0a9e-a019-4b1f-a9e9-d4f61eba3041",
   "metadata": {
    "tags": []
   },
   "outputs": [],
   "source": [
    "from sagemaker.lineage.context import Context, EndpointContext\n",
    "from sagemaker.lineage.action import Action\n",
    "from sagemaker.lineage.association import Association\n",
    "from sagemaker.lineage.artifact import Artifact, ModelArtifact, DatasetArtifact\n",
    "\n",
    "from sagemaker.lineage.query import (\n",
    "    LineageQuery,\n",
    "    LineageFilter,\n",
    "    LineageSourceEnum,\n",
    "    LineageEntityEnum,\n",
    "    LineageQueryDirectionEnum,\n",
    ")\n",
    "\n",
    "# Find the endpoint context and model artifact that should be used for the lineage queries.\n",
    "endpoint_arn = \"arn:aws:sagemaker:<region>:<>:endpoint/lambda-deploy-endpoint\"\n",
    "\n",
    "contexts = Context.list(source_uri=endpoint_arn)\n",
    "context_name = list(contexts)[0].context_name\n",
    "endpoint_context = EndpointContext.load(context_name=context_name)"
   ]
  },
  {
   "cell_type": "code",
   "execution_count": null,
   "id": "bc0688d2-2350-489c-a044-ae60754dcc60",
   "metadata": {
    "tags": []
   },
   "outputs": [],
   "source": [
    "# Graph APIs\n",
    "# Here we use the boto3 `query_lineage` API to generate the query response to plot.\n",
    "query_response = sm_client.query_lineage(\n",
    "    StartArns=[endpoint_context.context_arn], Direction=\"Ascendants\", IncludeEdges=True\n",
    ")\n",
    "\n",
    "viz = Visualizer()\n",
    "viz.render(query_response, \"Endpoint\")"
   ]
  }
 ],
 "metadata": {
  "instance_type": "ml.t3.medium",
  "kernelspec": {
   "display_name": "Python 3.8.13 64-bit ('3.8.13')",
   "language": "python",
   "name": "python3"
  },
  "language_info": {
   "codemirror_mode": {
    "name": "ipython",
    "version": 3
   },
   "file_extension": ".py",
   "mimetype": "text/x-python",
   "name": "python",
   "nbconvert_exporter": "python",
   "pygments_lexer": "ipython3",
   "version": "3.8.13"
  },
  "vscode": {
   "interpreter": {
    "hash": "6fe1867fe6cc8884feaeb7b1288157d8314e8c72f1d0f4f381ca790f3f5fd815"
   }
  }
 },
 "nbformat": 4,
 "nbformat_minor": 5
}
